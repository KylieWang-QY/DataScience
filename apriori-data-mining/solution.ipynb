{
 "cells": [
  {
   "cell_type": "code",
   "execution_count": 1,
   "id": "07046149",
   "metadata": {},
   "outputs": [],
   "source": [
    "import numpy as np\n",
    "import pandas as pd\n",
    "import seaborn as sns\n",
    "import matplotlib.pyplot as plt\n",
    "%matplotlib inline\n",
    "\n",
    "\n",
    "import warnings\n",
    "warnings.filterwarnings('ignore')"
   ]
  },
  {
   "cell_type": "code",
   "execution_count": 2,
   "id": "664f60d8",
   "metadata": {},
   "outputs": [
    {
     "data": {
      "text/html": [
       "<div>\n",
       "<style scoped>\n",
       "    .dataframe tbody tr th:only-of-type {\n",
       "        vertical-align: middle;\n",
       "    }\n",
       "\n",
       "    .dataframe tbody tr th {\n",
       "        vertical-align: top;\n",
       "    }\n",
       "\n",
       "    .dataframe thead th {\n",
       "        text-align: right;\n",
       "    }\n",
       "</style>\n",
       "<table border=\"1\" class=\"dataframe\">\n",
       "  <thead>\n",
       "    <tr style=\"text-align: right;\">\n",
       "      <th></th>\n",
       "      <th>TransactionNo</th>\n",
       "      <th>MerchandiseCode</th>\n",
       "      <th>Quan</th>\n",
       "      <th>TransactionDate</th>\n",
       "      <th>ItemPrice</th>\n",
       "      <th>UserID</th>\n",
       "    </tr>\n",
       "  </thead>\n",
       "  <tbody>\n",
       "    <tr>\n",
       "      <th>0</th>\n",
       "      <td>29138841</td>\n",
       "      <td>85123A</td>\n",
       "      <td>8</td>\n",
       "      <td>2020-9-1</td>\n",
       "      <td>2.76</td>\n",
       "      <td>208163.0</td>\n",
       "    </tr>\n",
       "    <tr>\n",
       "      <th>1</th>\n",
       "      <td>29138841</td>\n",
       "      <td>71053</td>\n",
       "      <td>8</td>\n",
       "      <td>2020-9-1</td>\n",
       "      <td>2.12</td>\n",
       "      <td>208163.0</td>\n",
       "    </tr>\n",
       "    <tr>\n",
       "      <th>2</th>\n",
       "      <td>29138841</td>\n",
       "      <td>84406B</td>\n",
       "      <td>8</td>\n",
       "      <td>2020-9-1</td>\n",
       "      <td>5.12</td>\n",
       "      <td>208163.0</td>\n",
       "    </tr>\n",
       "    <tr>\n",
       "      <th>3</th>\n",
       "      <td>29138841</td>\n",
       "      <td>84029G</td>\n",
       "      <td>8</td>\n",
       "      <td>2020-9-1</td>\n",
       "      <td>4.33</td>\n",
       "      <td>208163.0</td>\n",
       "    </tr>\n",
       "    <tr>\n",
       "      <th>4</th>\n",
       "      <td>29138841</td>\n",
       "      <td>84029E</td>\n",
       "      <td>8</td>\n",
       "      <td>2020-9-1</td>\n",
       "      <td>3.39</td>\n",
       "      <td>208163.0</td>\n",
       "    </tr>\n",
       "  </tbody>\n",
       "</table>\n",
       "</div>"
      ],
      "text/plain": [
       "  TransactionNo MerchandiseCode  Quan TransactionDate  ItemPrice    UserID\n",
       "0      29138841          85123A     8        2020-9-1       2.76  208163.0\n",
       "1      29138841           71053     8        2020-9-1       2.12  208163.0\n",
       "2      29138841          84406B     8        2020-9-1       5.12  208163.0\n",
       "3      29138841          84029G     8        2020-9-1       4.33  208163.0\n",
       "4      29138841          84029E     8        2020-9-1       3.39  208163.0"
      ]
     },
     "execution_count": 2,
     "metadata": {},
     "output_type": "execute_result"
    }
   ],
   "source": [
    "# Read data into DataFrame\n",
    "df= pd.read_csv('Online_Retail.csv')\n",
    "df.head()"
   ]
  },
  {
   "cell_type": "code",
   "execution_count": 3,
   "id": "f470c908",
   "metadata": {},
   "outputs": [
    {
     "data": {
      "text/plain": [
       "UserID             135080\n",
       "TransactionNo           0\n",
       "MerchandiseCode         0\n",
       "Quan                    0\n",
       "TransactionDate         0\n",
       "ItemPrice               0\n",
       "dtype: int64"
      ]
     },
     "execution_count": 3,
     "metadata": {},
     "output_type": "execute_result"
    }
   ],
   "source": [
    "# Checking for null values\n",
    "\n",
    "df.isna().sum().sort_values(ascending=False)"
   ]
  },
  {
   "cell_type": "code",
   "execution_count": 4,
   "id": "d3d1e022",
   "metadata": {},
   "outputs": [
    {
     "data": {
      "text/plain": [
       "TransactionNo      0\n",
       "MerchandiseCode    0\n",
       "Quan               0\n",
       "TransactionDate    0\n",
       "ItemPrice          0\n",
       "UserID             0\n",
       "dtype: int64"
      ]
     },
     "execution_count": 4,
     "metadata": {},
     "output_type": "execute_result"
    }
   ],
   "source": [
    "df.dropna(axis=0, how='any', inplace=True)\n",
    "df.isna().sum().sort_values(ascending=False)"
   ]
  },
  {
   "cell_type": "code",
   "execution_count": 14,
   "id": "2d3dbd2f",
   "metadata": {},
   "outputs": [
    {
     "data": {
      "text/plain": [
       "85123A    2077\n",
       "22423     1905\n",
       "85099B    1662\n",
       "84879     1418\n",
       "47566     1416\n",
       "20725     1359\n",
       "22720     1232\n",
       "POST      1196\n",
       "20727     1126\n",
       "22197     1118\n",
       "23203     1115\n",
       "22383     1103\n",
       "21212     1080\n",
       "23209     1040\n",
       "23298     1036\n",
       "22086     1029\n",
       "22382     1021\n",
       "20728     1012\n",
       "22457      997\n",
       "22469      996\n",
       "22384      977\n",
       "22960      974\n",
       "21034      955\n",
       "22727      932\n",
       "23206      907\n",
       "82482      905\n",
       "22386      903\n",
       "22993      902\n",
       "22138      894\n",
       "22666      890\n",
       "Name: MerchandiseCode, dtype: int64"
      ]
     },
     "execution_count": 14,
     "metadata": {},
     "output_type": "execute_result"
    }
   ],
   "source": [
    "# Count the number of occurrences of each element and pick up the top 30\n",
    "counts = df['MerchandiseCode'].value_counts()\n",
    "counts = counts[0:30]\n",
    "counts"
   ]
  },
  {
   "cell_type": "code",
   "execution_count": 44,
   "id": "1493318e",
   "metadata": {},
   "outputs": [],
   "source": [
    "index = list(counts.index)\n",
    "data = list(counts)\n"
   ]
  },
  {
   "cell_type": "code",
   "execution_count": 45,
   "id": "323cf5a7",
   "metadata": {},
   "outputs": [],
   "source": [
    "import squarify"
   ]
  },
  {
   "cell_type": "code",
   "execution_count": 46,
   "id": "d28d1b53",
   "metadata": {},
   "outputs": [
    {
     "data": {
      "image/png": "[encoded data removed]",
      "text/plain": [
       "<Figure size 432x288 with 1 Axes>"
      ]
     },
     "metadata": {
      "needs_background": "light"
     },
     "output_type": "display_data"
    }
   ],
   "source": [
    "# Frequent items plot\n",
    "squarify.plot(data,label=index)\n",
    "plt.axis('off')\n",
    "plt.show()"
   ]
  },
  {
   "cell_type": "code",
   "execution_count": 95,
   "id": "62ec00de",
   "metadata": {},
   "outputs": [
    {
     "data": {
      "text/plain": [
       "TransactionNo\n",
       "22345123                          [22960, 22913, 22912, 22914]\n",
       "22753781     [22728, 22727, 22726, 21724, 21883, 10002, 217...\n",
       "229376172    [22481, 22915, 22178, 22460, 84832, 23084, 848...\n",
       "291388311    [84879, 22745, 22748, 22749, 22310, 84969, 226...\n",
       "29138841     [85123A, 71053, 84406B, 84029G, 84029E, 22752,...\n",
       "                                   ...                        \n",
       "C581484                                                [23843]\n",
       "C581490                                         [22178, 23144]\n",
       "C581499                                                    [M]\n",
       "C581568                                                [21258]\n",
       "C581569                                         [84978, 20979]\n",
       "Name: MerchandiseCode, Length: 22189, dtype: object"
      ]
     },
     "execution_count": 95,
     "metadata": {},
     "output_type": "execute_result"
    }
   ],
   "source": [
    "# Apriori algorithm\n",
    "# Group by TransactionNo\n",
    "\n",
    "grouped_df = df.groupby('TransactionNo')['MerchandiseCode'].apply(list)\n",
    "grouped_df"
   ]
  },
  {
   "cell_type": "code",
   "execution_count": 111,
   "id": "8657b227",
   "metadata": {},
   "outputs": [],
   "source": [
    "content = []\n",
    "for i in range(22189):\n",
    "    content.append(grouped_df[i])\n"
   ]
  },
  {
   "cell_type": "code",
   "execution_count": 180,
   "id": "69970579",
   "metadata": {},
   "outputs": [],
   "source": [
    "from efficient_apriori import apriori\n",
    "\n",
    "itemsets, rules = apriori(transactions = content, min_support = 0.025, min_confidence = 0.2)"
   ]
  },
  {
   "cell_type": "code",
   "execution_count": 181,
   "id": "addb19d3",
   "metadata": {},
   "outputs": [
    {
     "name": "stdout",
     "output_type": "stream",
     "text": [
      "{1: {('22960',): 965, ('22728',): 629, ('22727',): 907, ('22726',): 809, ('22326',): 612, ('22629',): 712, ('POST',): 1194, ('22178',): 839, ('23084',): 816, ('84879',): 1385, ('84946',): 704, ('21754',): 700, ('21755',): 557, ('85123A',): 2020, ('22086',): 990, ('82486',): 580, ('82482',): 894, ('82494L',): 826, ('21733',): 692, ('22386',): 884, ('85099C',): 663, ('20725',): 1330, ('21212',): 1041, ('21977',): 675, ('84991',): 664, ('21931',): 791, ('21929',): 614, ('22961',): 880, ('22139',): 839, ('22411',): 801, ('21166',): 613, ('21175',): 699, ('82484',): 615, ('22457',): 984, ('22469',): 972, ('22470',): 817, ('22662',): 605, ('85099B',): 1643, ('22910',): 709, ('22197',): 1085, ('21080',): 734, ('22865',): 583, ('22558',): 650, ('85152',): 593, ('21232',): 639, ('22112',): 707, ('22111',): 663, ('22382',): 1001, ('20726',): 839, ('22384',): 951, ('22467',): 599, ('22383',): 1063, ('20728',): 989, ('20727',): 1073, ('20914',): 798, ('21915',): 569, ('20685',): 583, ('85099F',): 667, ('22630',): 625, ('22077',): 732, ('21034',): 862, ('21790',): 725, ('22551',): 587, ('22554',): 592, ('22423',): 1884, ('22699',): 836, ('22697',): 733, ('22624',): 629, ('22966',): 556, ('22666',): 875, ('22355',): 597, ('21181',): 704, ('22090',): 575, ('20724',): 755, ('47566',): 1399, ('84978',): 602, ('22698',): 591, ('22722',): 665, ('22720',): 1218, ('22138',): 881, ('22993',): 875, ('23201',): 766, ('23207',): 660, ('23199',): 739, ('23206',): 878, ('23208',): 601, ('23284',): 655, ('23298',): 1021, ('23209',): 1017, ('23203',): 1097, ('23202',): 778, ('23301',): 767, ('23300',): 642, ('23245',): 755, ('23321',): 586, ('23344',): 593, ('23355',): 726}, 2: {('22697', '22699'): 557}}\n"
     ]
    }
   ],
   "source": [
    "print(itemsets)"
   ]
  },
  {
   "cell_type": "code",
   "execution_count": 178,
   "id": "6ae0236a",
   "metadata": {},
   "outputs": [
    {
     "name": "stdout",
     "output_type": "stream",
     "text": [
      "[{22699} -> {22697}, {22697} -> {22699}]\n"
     ]
    }
   ],
   "source": [
    "print(rules)"
   ]
  },
  {
   "cell_type": "code",
   "execution_count": 182,
   "id": "8a01a75f",
   "metadata": {},
   "outputs": [
    {
     "name": "stdout",
     "output_type": "stream",
     "text": [
      "{22699} -> {22697} (conf: 0.666, supp: 0.025, lift: 20.169, conv: 2.897)\n",
      "{22697} -> {22699} (conf: 0.760, supp: 0.025, lift: 20.169, conv: 4.008)\n"
     ]
    }
   ],
   "source": [
    "for r in rules:\n",
    "    print(r)\n",
    "               "
   ]
  },
  {
   "cell_type": "code",
   "execution_count": null,
   "id": "56c79145",
   "metadata": {},
   "outputs": [],
   "source": [
    "# We can buy 22699 and 22697 together, and the support is 0.025"
   ]
  },
  {
   "cell_type": "code",
   "execution_count": null,
   "id": "4ef4f668",
   "metadata": {},
   "outputs": [],
   "source": []
  }
 ],
 "metadata": {
  "kernelspec": {
   "display_name": "Python 3 (ipykernel)",
   "language": "python",
   "name": "python3"
  },
  "language_info": {
   "codemirror_mode": {
    "name": "ipython",
    "version": 3
   },
   "file_extension": ".py",
   "mimetype": "text/x-python",
   "name": "python",
   "nbconvert_exporter": "python",
   "pygments_lexer": "ipython3",
   "version": "3.9.7"
  }
 },
 "nbformat": 4,
 "nbformat_minor": 5
}
