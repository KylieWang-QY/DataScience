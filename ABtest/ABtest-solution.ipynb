{
 "cells": [
  {
   "cell_type": "code",
   "execution_count": 1,
   "id": "f1cbce74",
   "metadata": {},
   "outputs": [],
   "source": [
    "import pandas as pd\n",
    "import numpy as np\n",
    "import matplotlib.pyplot as plt\n",
    "%matplotlib inline\n",
    "\n",
    "import warnings\n",
    "warnings.filterwarnings('ignore')"
   ]
  },
  {
   "cell_type": "code",
   "execution_count": 2,
   "id": "815528b4",
   "metadata": {},
   "outputs": [
    {
     "data": {
      "text/html": [
       "<div>\n",
       "<style scoped>\n",
       "    .dataframe tbody tr th:only-of-type {\n",
       "        vertical-align: middle;\n",
       "    }\n",
       "\n",
       "    .dataframe tbody tr th {\n",
       "        vertical-align: top;\n",
       "    }\n",
       "\n",
       "    .dataframe thead th {\n",
       "        text-align: right;\n",
       "    }\n",
       "</style>\n",
       "<table border=\"1\" class=\"dataframe\">\n",
       "  <thead>\n",
       "    <tr style=\"text-align: right;\">\n",
       "      <th></th>\n",
       "      <th>Unnamed: 0</th>\n",
       "      <th>user_id</th>\n",
       "      <th>timestamp</th>\n",
       "      <th>group</th>\n",
       "      <th>landing_page</th>\n",
       "      <th>converted</th>\n",
       "    </tr>\n",
       "  </thead>\n",
       "  <tbody>\n",
       "    <tr>\n",
       "      <th>0</th>\n",
       "      <td>0</td>\n",
       "      <td>851104</td>\n",
       "      <td>2021-10-21 22:11:48.556739</td>\n",
       "      <td>control</td>\n",
       "      <td>old_page</td>\n",
       "      <td>0</td>\n",
       "    </tr>\n",
       "    <tr>\n",
       "      <th>1</th>\n",
       "      <td>1</td>\n",
       "      <td>804228</td>\n",
       "      <td>2021-10-12 08:01:45.159739</td>\n",
       "      <td>control</td>\n",
       "      <td>old_page</td>\n",
       "      <td>0</td>\n",
       "    </tr>\n",
       "    <tr>\n",
       "      <th>2</th>\n",
       "      <td>2</td>\n",
       "      <td>661590</td>\n",
       "      <td>2021-10-11 16:55:06.154213</td>\n",
       "      <td>treatment</td>\n",
       "      <td>new_page</td>\n",
       "      <td>0</td>\n",
       "    </tr>\n",
       "    <tr>\n",
       "      <th>3</th>\n",
       "      <td>3</td>\n",
       "      <td>853541</td>\n",
       "      <td>2021-10-08 18:28:03.143765</td>\n",
       "      <td>treatment</td>\n",
       "      <td>new_page</td>\n",
       "      <td>0</td>\n",
       "    </tr>\n",
       "    <tr>\n",
       "      <th>4</th>\n",
       "      <td>4</td>\n",
       "      <td>864975</td>\n",
       "      <td>2021-10-21 01:52:26.210827</td>\n",
       "      <td>control</td>\n",
       "      <td>old_page</td>\n",
       "      <td>1</td>\n",
       "    </tr>\n",
       "  </tbody>\n",
       "</table>\n",
       "</div>"
      ],
      "text/plain": [
       "   Unnamed: 0  user_id                   timestamp      group landing_page  \\\n",
       "0           0   851104  2021-10-21 22:11:48.556739    control     old_page   \n",
       "1           1   804228  2021-10-12 08:01:45.159739    control     old_page   \n",
       "2           2   661590  2021-10-11 16:55:06.154213  treatment     new_page   \n",
       "3           3   853541  2021-10-08 18:28:03.143765  treatment     new_page   \n",
       "4           4   864975  2021-10-21 01:52:26.210827    control     old_page   \n",
       "\n",
       "   converted  \n",
       "0          0  \n",
       "1          0  \n",
       "2          0  \n",
       "3          0  \n",
       "4          1  "
      ]
     },
     "execution_count": 2,
     "metadata": {},
     "output_type": "execute_result"
    }
   ],
   "source": [
    "# Read data into DataFrame\n",
    "df= pd.read_csv('data_abtest(1).csv')\n",
    "df.head()"
   ]
  },
  {
   "cell_type": "markdown",
   "id": "be58d758",
   "metadata": {},
   "source": [
    "# Data cleaning"
   ]
  },
  {
   "cell_type": "code",
   "execution_count": 3,
   "id": "35afe695",
   "metadata": {},
   "outputs": [
    {
     "data": {
      "text/plain": [
       "(294478, 6)"
      ]
     },
     "execution_count": 3,
     "metadata": {},
     "output_type": "execute_result"
    }
   ],
   "source": [
    "df.shape"
   ]
  },
  {
   "cell_type": "code",
   "execution_count": 4,
   "id": "0e2006bf",
   "metadata": {},
   "outputs": [
    {
     "data": {
      "text/plain": [
       "290584"
      ]
     },
     "execution_count": 4,
     "metadata": {},
     "output_type": "execute_result"
    }
   ],
   "source": [
    "df.user_id.nunique()"
   ]
  },
  {
   "cell_type": "code",
   "execution_count": 5,
   "id": "26551ba9",
   "metadata": {},
   "outputs": [
    {
     "data": {
      "text/html": [
       "<div>\n",
       "<style scoped>\n",
       "    .dataframe tbody tr th:only-of-type {\n",
       "        vertical-align: middle;\n",
       "    }\n",
       "\n",
       "    .dataframe tbody tr th {\n",
       "        vertical-align: top;\n",
       "    }\n",
       "\n",
       "    .dataframe thead th {\n",
       "        text-align: right;\n",
       "    }\n",
       "</style>\n",
       "<table border=\"1\" class=\"dataframe\">\n",
       "  <thead>\n",
       "    <tr style=\"text-align: right;\">\n",
       "      <th></th>\n",
       "      <th>Unnamed: 0</th>\n",
       "      <th>user_id</th>\n",
       "      <th>timestamp</th>\n",
       "      <th>group</th>\n",
       "      <th>landing_page</th>\n",
       "      <th>converted</th>\n",
       "    </tr>\n",
       "  </thead>\n",
       "  <tbody>\n",
       "    <tr>\n",
       "      <th>230259</th>\n",
       "      <td>230259</td>\n",
       "      <td>630052</td>\n",
       "      <td>2021-10-17 01:16:05.208766</td>\n",
       "      <td>treatment</td>\n",
       "      <td>new_page</td>\n",
       "      <td>0</td>\n",
       "    </tr>\n",
       "    <tr>\n",
       "      <th>213114</th>\n",
       "      <td>213114</td>\n",
       "      <td>630052</td>\n",
       "      <td>2021-10-07 12:25:54.089486</td>\n",
       "      <td>treatment</td>\n",
       "      <td>old_page</td>\n",
       "      <td>1</td>\n",
       "    </tr>\n",
       "    <tr>\n",
       "      <th>22513</th>\n",
       "      <td>22513</td>\n",
       "      <td>630126</td>\n",
       "      <td>2021-10-14 13:35:54.778695</td>\n",
       "      <td>treatment</td>\n",
       "      <td>old_page</td>\n",
       "      <td>0</td>\n",
       "    </tr>\n",
       "    <tr>\n",
       "      <th>251762</th>\n",
       "      <td>251762</td>\n",
       "      <td>630126</td>\n",
       "      <td>2021-10-19 17:16:00.280440</td>\n",
       "      <td>treatment</td>\n",
       "      <td>new_page</td>\n",
       "      <td>0</td>\n",
       "    </tr>\n",
       "    <tr>\n",
       "      <th>183371</th>\n",
       "      <td>183371</td>\n",
       "      <td>630137</td>\n",
       "      <td>2021-10-20 02:08:49.893878</td>\n",
       "      <td>control</td>\n",
       "      <td>old_page</td>\n",
       "      <td>0</td>\n",
       "    </tr>\n",
       "    <tr>\n",
       "      <th>11792</th>\n",
       "      <td>11792</td>\n",
       "      <td>630137</td>\n",
       "      <td>2021-10-22 14:59:22.051308</td>\n",
       "      <td>control</td>\n",
       "      <td>new_page</td>\n",
       "      <td>0</td>\n",
       "    </tr>\n",
       "    <tr>\n",
       "      <th>207211</th>\n",
       "      <td>207211</td>\n",
       "      <td>630320</td>\n",
       "      <td>2021-10-07 18:02:43.626318</td>\n",
       "      <td>control</td>\n",
       "      <td>old_page</td>\n",
       "      <td>0</td>\n",
       "    </tr>\n",
       "    <tr>\n",
       "      <th>255753</th>\n",
       "      <td>255753</td>\n",
       "      <td>630320</td>\n",
       "      <td>2021-10-12 05:27:37.181803</td>\n",
       "      <td>treatment</td>\n",
       "      <td>old_page</td>\n",
       "      <td>0</td>\n",
       "    </tr>\n",
       "    <tr>\n",
       "      <th>96929</th>\n",
       "      <td>96929</td>\n",
       "      <td>630471</td>\n",
       "      <td>2021-10-07 02:14:17.405726</td>\n",
       "      <td>control</td>\n",
       "      <td>new_page</td>\n",
       "      <td>0</td>\n",
       "    </tr>\n",
       "    <tr>\n",
       "      <th>110634</th>\n",
       "      <td>110634</td>\n",
       "      <td>630471</td>\n",
       "      <td>2021-10-23 01:42:51.501851</td>\n",
       "      <td>control</td>\n",
       "      <td>old_page</td>\n",
       "      <td>0</td>\n",
       "    </tr>\n",
       "  </tbody>\n",
       "</table>\n",
       "</div>"
      ],
      "text/plain": [
       "        Unnamed: 0  user_id                   timestamp      group  \\\n",
       "230259      230259   630052  2021-10-17 01:16:05.208766  treatment   \n",
       "213114      213114   630052  2021-10-07 12:25:54.089486  treatment   \n",
       "22513        22513   630126  2021-10-14 13:35:54.778695  treatment   \n",
       "251762      251762   630126  2021-10-19 17:16:00.280440  treatment   \n",
       "183371      183371   630137  2021-10-20 02:08:49.893878    control   \n",
       "11792        11792   630137  2021-10-22 14:59:22.051308    control   \n",
       "207211      207211   630320  2021-10-07 18:02:43.626318    control   \n",
       "255753      255753   630320  2021-10-12 05:27:37.181803  treatment   \n",
       "96929        96929   630471  2021-10-07 02:14:17.405726    control   \n",
       "110634      110634   630471  2021-10-23 01:42:51.501851    control   \n",
       "\n",
       "       landing_page  converted  \n",
       "230259     new_page          0  \n",
       "213114     old_page          1  \n",
       "22513      old_page          0  \n",
       "251762     new_page          0  \n",
       "183371     old_page          0  \n",
       "11792      new_page          0  \n",
       "207211     old_page          0  \n",
       "255753     old_page          0  \n",
       "96929      new_page          0  \n",
       "110634     old_page          0  "
      ]
     },
     "execution_count": 5,
     "metadata": {},
     "output_type": "execute_result"
    }
   ],
   "source": [
    "# Duplicated id\n",
    "df[df.user_id.duplicated(keep=False)].sort_values(by = 'user_id').head(10)"
   ]
  },
  {
   "cell_type": "code",
   "execution_count": 6,
   "id": "3871fcda",
   "metadata": {},
   "outputs": [
    {
     "name": "stdout",
     "output_type": "stream",
     "text": [
      "Mismatch： 3893\n"
     ]
    }
   ],
   "source": [
    "# Treatment-new page; control-old page\n",
    "mismatch = ((df['group'] == 'treatment') != (df['landing_page'] == 'new_page'))\n",
    "print('Mismatch：', mismatch.sum())"
   ]
  },
  {
   "cell_type": "code",
   "execution_count": 7,
   "id": "1961478a",
   "metadata": {},
   "outputs": [],
   "source": [
    "matched_df = df[~mismatch].copy()"
   ]
  },
  {
   "cell_type": "code",
   "execution_count": 8,
   "id": "c9ad75d7",
   "metadata": {},
   "outputs": [
    {
     "name": "stdout",
     "output_type": "stream",
     "text": [
      "Number of dataset 290585\n",
      "Number of User ID 290584\n"
     ]
    }
   ],
   "source": [
    "print('Number of dataset', matched_df.shape[0])\n",
    "print('Number of User ID', matched_df.user_id.nunique())"
   ]
  },
  {
   "cell_type": "code",
   "execution_count": 9,
   "id": "a2670c39",
   "metadata": {},
   "outputs": [
    {
     "data": {
      "text/html": [
       "<div>\n",
       "<style scoped>\n",
       "    .dataframe tbody tr th:only-of-type {\n",
       "        vertical-align: middle;\n",
       "    }\n",
       "\n",
       "    .dataframe tbody tr th {\n",
       "        vertical-align: top;\n",
       "    }\n",
       "\n",
       "    .dataframe thead th {\n",
       "        text-align: right;\n",
       "    }\n",
       "</style>\n",
       "<table border=\"1\" class=\"dataframe\">\n",
       "  <thead>\n",
       "    <tr style=\"text-align: right;\">\n",
       "      <th></th>\n",
       "      <th>Unnamed: 0</th>\n",
       "      <th>user_id</th>\n",
       "      <th>timestamp</th>\n",
       "      <th>group</th>\n",
       "      <th>landing_page</th>\n",
       "      <th>converted</th>\n",
       "    </tr>\n",
       "  </thead>\n",
       "  <tbody>\n",
       "    <tr>\n",
       "      <th>1899</th>\n",
       "      <td>1899</td>\n",
       "      <td>773192</td>\n",
       "      <td>2021-10-09 05:37:58.781806</td>\n",
       "      <td>treatment</td>\n",
       "      <td>new_page</td>\n",
       "      <td>0</td>\n",
       "    </tr>\n",
       "    <tr>\n",
       "      <th>2893</th>\n",
       "      <td>2893</td>\n",
       "      <td>773192</td>\n",
       "      <td>2021-10-14 02:55:59.590927</td>\n",
       "      <td>treatment</td>\n",
       "      <td>new_page</td>\n",
       "      <td>0</td>\n",
       "    </tr>\n",
       "  </tbody>\n",
       "</table>\n",
       "</div>"
      ],
      "text/plain": [
       "      Unnamed: 0  user_id                   timestamp      group landing_page  \\\n",
       "1899        1899   773192  2021-10-09 05:37:58.781806  treatment     new_page   \n",
       "2893        2893   773192  2021-10-14 02:55:59.590927  treatment     new_page   \n",
       "\n",
       "      converted  \n",
       "1899          0  \n",
       "2893          0  "
      ]
     },
     "execution_count": 9,
     "metadata": {},
     "output_type": "execute_result"
    }
   ],
   "source": [
    "matched_df[matched_df.user_id.duplicated(keep=False)]"
   ]
  },
  {
   "cell_type": "code",
   "execution_count": 10,
   "id": "8c1b2206",
   "metadata": {},
   "outputs": [],
   "source": [
    "matched_df = matched_df.drop_duplicates(subset=['user_id'], keep='last')"
   ]
  },
  {
   "cell_type": "code",
   "execution_count": 11,
   "id": "3d1197d3",
   "metadata": {},
   "outputs": [
    {
     "data": {
      "text/plain": [
       "Unnamed: 0      0\n",
       "user_id         0\n",
       "timestamp       0\n",
       "group           0\n",
       "landing_page    0\n",
       "converted       0\n",
       "dtype: int64"
      ]
     },
     "execution_count": 11,
     "metadata": {},
     "output_type": "execute_result"
    }
   ],
   "source": [
    "# Missing values\n",
    "matched_df.isnull().sum()"
   ]
  },
  {
   "cell_type": "code",
   "execution_count": 13,
   "id": "7d933db2",
   "metadata": {},
   "outputs": [
    {
     "data": {
      "text/plain": [
       "0.5000619442226688"
      ]
     },
     "execution_count": 13,
     "metadata": {},
     "output_type": "execute_result"
    }
   ],
   "source": [
    "# Ratio of old page and new page\n",
    "matched_df[matched_df.landing_page==\"new_page\"].shape[0]/matched_df.shape[0]"
   ]
  },
  {
   "cell_type": "markdown",
   "id": "c7ccd951",
   "metadata": {},
   "source": [
    "# Hypothesis test"
   ]
  },
  {
   "cell_type": "code",
   "execution_count": 14,
   "id": "da547f18",
   "metadata": {},
   "outputs": [],
   "source": [
    "import statsmodels.stats.proportion as sp"
   ]
  },
  {
   "cell_type": "code",
   "execution_count": 16,
   "id": "28138457",
   "metadata": {},
   "outputs": [],
   "source": [
    "# Number of users in the control group and treatment group\n",
    "n_old = matched_df.query('group==\"control\"').shape[0]\n",
    "n_new = matched_df.query('group==\"treatment\"').shape[0]"
   ]
  },
  {
   "cell_type": "code",
   "execution_count": 56,
   "id": "c4b86628",
   "metadata": {},
   "outputs": [],
   "source": [
    "# Number of users be converted\n",
    "convert_old = matched_df.query('group==\"control\" & converted ==1').shape[0]\n",
    "convert_new = matched_df.query('group==\"treatment\" & converted ==1').shape[0]\n"
   ]
  },
  {
   "cell_type": "code",
   "execution_count": 54,
   "id": "0c8de2b2",
   "metadata": {},
   "outputs": [
    {
     "name": "stdout",
     "output_type": "stream",
     "text": [
      "0.1203863045004612\n",
      "0.12299222352212512\n"
     ]
    }
   ],
   "source": [
    "# Ratio of convert for new/old groups \n",
    "p_old = convert_old / n_old\n",
    "p_new = convert_new / n_new\n",
    "print(p_old)\n",
    "print(p_new)"
   ]
  },
  {
   "cell_type": "code",
   "execution_count": 19,
   "id": "fb154b5f",
   "metadata": {},
   "outputs": [],
   "source": [
    "import statsmodels.stats.proportion as sp\n",
    "\n",
    "# left tail\n",
    "z_score, p_value = sp.proportions_ztest([convert_old, convert_new], [n_old, n_new], alternative='smaller')"
   ]
  },
  {
   "cell_type": "code",
   "execution_count": 20,
   "id": "b5379cd6",
   "metadata": {},
   "outputs": [
    {
     "name": "stdout",
     "output_type": "stream",
     "text": [
      "z-score:  -2.1484056695589\n",
      "p-value:  0.015840771394875417\n"
     ]
    }
   ],
   "source": [
    "print('z-score: ', z_score)\n",
    "print('p-value: ', p_value)"
   ]
  },
  {
   "cell_type": "code",
   "execution_count": 24,
   "id": "ab7baf7d",
   "metadata": {},
   "outputs": [
    {
     "data": {
      "text/plain": [
       "-1.6448536269514729"
      ]
     },
     "execution_count": 24,
     "metadata": {},
     "output_type": "execute_result"
    }
   ],
   "source": [
    "# 0.05 confidence interval\n",
    "\n",
    "from scipy.stats import norm\n",
    "z_alpha = norm.ppf(0.05)\n",
    "z_alpha"
   ]
  },
  {
   "cell_type": "code",
   "execution_count": 25,
   "id": "3a354a13",
   "metadata": {},
   "outputs": [],
   "source": [
    "# we can reject the null hypothesis if z < z-alpha in the left tail model\n",
    "# Due to z = -2.148, which less than z-alpha = -1.644\n",
    "# Also, p-value < 0.05, the null hypothesis can be rejected"
   ]
  },
  {
   "cell_type": "markdown",
   "id": "b4961a55",
   "metadata": {},
   "source": [
    "# Effecive side"
   ]
  },
  {
   "cell_type": "code",
   "execution_count": 52,
   "id": "5103bcda",
   "metadata": {},
   "outputs": [
    {
     "name": "stdout",
     "output_type": "stream",
     "text": [
      "Cohen's d: -0.007970992391336005\n"
     ]
    }
   ],
   "source": [
    "from statistics import mean, stdev\n",
    "from numpy import var\n",
    "from math import sqrt\n",
    "\n",
    "std_old = matched_df[matched_df.landing_page==\"old_page\"].converted.std()\n",
    "std_new = matched_df[matched_df.landing_page==\"new_page\"].converted.std()\n",
    "\n",
    "# Calculate the pooled standard deviation\n",
    "s = np.sqrt(((n_old - 1)* std_old**2 + (n_new - 1)* std_new**2 ) / (n_old + n_new - 2))\n",
    "\n",
    "# Calculate the difference between two means/SD pool\n",
    "d = (p_old - p_new) / s\n",
    "\n",
    "print('Cohen\\'s d:', d)"
   ]
  },
  {
   "cell_type": "markdown",
   "id": "0d6fd0f1",
   "metadata": {},
   "source": [
    "###  Reject null hypothesis and Cohen's effect size is very small"
   ]
  }
 ],
 "metadata": {
  "kernelspec": {
   "display_name": "Python 3 (ipykernel)",
   "language": "python",
   "name": "python3"
  },
  "language_info": {
   "codemirror_mode": {
    "name": "ipython",
    "version": 3
   },
   "file_extension": ".py",
   "mimetype": "text/x-python",
   "name": "python",
   "nbconvert_exporter": "python",
   "pygments_lexer": "ipython3",
   "version": "3.9.7"
  }
 },
 "nbformat": 4,
 "nbformat_minor": 5
}
