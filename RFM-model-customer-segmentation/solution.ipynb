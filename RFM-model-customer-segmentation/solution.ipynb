{
 "cells": [
  {
   "cell_type": "code",
   "execution_count": 1,
   "id": "c86fc5bf",
   "metadata": {},
   "outputs": [],
   "source": [
    "import numpy as np\n",
    "import pandas as pd\n",
    "import seaborn as sns\n",
    "import matplotlib.pyplot as plt\n",
    "%matplotlib inline\n",
    "\n",
    "\n",
    "import warnings\n",
    "warnings.filterwarnings('ignore')"
   ]
  },
  {
   "cell_type": "code",
   "execution_count": 3,
   "id": "5f3f4e52",
   "metadata": {},
   "outputs": [
    {
     "data": {
      "text/html": [
       "<div>\n",
       "<style scoped>\n",
       "    .dataframe tbody tr th:only-of-type {\n",
       "        vertical-align: middle;\n",
       "    }\n",
       "\n",
       "    .dataframe tbody tr th {\n",
       "        vertical-align: top;\n",
       "    }\n",
       "\n",
       "    .dataframe thead th {\n",
       "        text-align: right;\n",
       "    }\n",
       "</style>\n",
       "<table border=\"1\" class=\"dataframe\">\n",
       "  <thead>\n",
       "    <tr style=\"text-align: right;\">\n",
       "      <th></th>\n",
       "      <th>TransactionNo</th>\n",
       "      <th>MerchandiseCode</th>\n",
       "      <th>Quan</th>\n",
       "      <th>TransactionDate</th>\n",
       "      <th>ItemPrice</th>\n",
       "      <th>UserID</th>\n",
       "    </tr>\n",
       "  </thead>\n",
       "  <tbody>\n",
       "    <tr>\n",
       "      <th>0</th>\n",
       "      <td>29138841</td>\n",
       "      <td>85123A</td>\n",
       "      <td>8</td>\n",
       "      <td>2020-9-1</td>\n",
       "      <td>2.76</td>\n",
       "      <td>208163.0</td>\n",
       "    </tr>\n",
       "    <tr>\n",
       "      <th>1</th>\n",
       "      <td>29138841</td>\n",
       "      <td>71053</td>\n",
       "      <td>8</td>\n",
       "      <td>2020-9-1</td>\n",
       "      <td>2.12</td>\n",
       "      <td>208163.0</td>\n",
       "    </tr>\n",
       "    <tr>\n",
       "      <th>2</th>\n",
       "      <td>29138841</td>\n",
       "      <td>84406B</td>\n",
       "      <td>8</td>\n",
       "      <td>2020-9-1</td>\n",
       "      <td>5.12</td>\n",
       "      <td>208163.0</td>\n",
       "    </tr>\n",
       "    <tr>\n",
       "      <th>3</th>\n",
       "      <td>29138841</td>\n",
       "      <td>84029G</td>\n",
       "      <td>8</td>\n",
       "      <td>2020-9-1</td>\n",
       "      <td>4.33</td>\n",
       "      <td>208163.0</td>\n",
       "    </tr>\n",
       "    <tr>\n",
       "      <th>4</th>\n",
       "      <td>29138841</td>\n",
       "      <td>84029E</td>\n",
       "      <td>8</td>\n",
       "      <td>2020-9-1</td>\n",
       "      <td>3.39</td>\n",
       "      <td>208163.0</td>\n",
       "    </tr>\n",
       "  </tbody>\n",
       "</table>\n",
       "</div>"
      ],
      "text/plain": [
       "  TransactionNo MerchandiseCode  Quan TransactionDate  ItemPrice    UserID\n",
       "0      29138841          85123A     8        2020-9-1       2.76  208163.0\n",
       "1      29138841           71053     8        2020-9-1       2.12  208163.0\n",
       "2      29138841          84406B     8        2020-9-1       5.12  208163.0\n",
       "3      29138841          84029G     8        2020-9-1       4.33  208163.0\n",
       "4      29138841          84029E     8        2020-9-1       3.39  208163.0"
      ]
     },
     "execution_count": 3,
     "metadata": {},
     "output_type": "execute_result"
    }
   ],
   "source": [
    "# Read data into DataFrame\n",
    "df= pd.read_csv('Online_Retail.csv')\n",
    "df.head()"
   ]
  },
  {
   "cell_type": "code",
   "execution_count": 4,
   "id": "21467306",
   "metadata": {},
   "outputs": [
    {
     "data": {
      "text/plain": [
       "UserID             135080\n",
       "TransactionNo           0\n",
       "MerchandiseCode         0\n",
       "Quan                    0\n",
       "TransactionDate         0\n",
       "ItemPrice               0\n",
       "dtype: int64"
      ]
     },
     "execution_count": 4,
     "metadata": {},
     "output_type": "execute_result"
    }
   ],
   "source": [
    "# Checking for null values\n",
    "\n",
    "df.isna().sum().sort_values(ascending=False)"
   ]
  },
  {
   "cell_type": "code",
   "execution_count": 5,
   "id": "27edc21c",
   "metadata": {},
   "outputs": [],
   "source": [
    "df.dropna(axis=0, how='any', inplace=True)"
   ]
  },
  {
   "cell_type": "code",
   "execution_count": 6,
   "id": "5dc1947e",
   "metadata": {},
   "outputs": [
    {
     "data": {
      "text/plain": [
       "TransactionNo      0\n",
       "MerchandiseCode    0\n",
       "Quan               0\n",
       "TransactionDate    0\n",
       "ItemPrice          0\n",
       "UserID             0\n",
       "dtype: int64"
      ]
     },
     "execution_count": 6,
     "metadata": {},
     "output_type": "execute_result"
    }
   ],
   "source": [
    "df.isna().sum().sort_values(ascending=False)"
   ]
  },
  {
   "cell_type": "code",
   "execution_count": 7,
   "id": "5236ccd3",
   "metadata": {},
   "outputs": [
    {
     "data": {
      "text/plain": [
       "TransactionNo       object\n",
       "MerchandiseCode     object\n",
       "Quan                 int64\n",
       "TransactionDate     object\n",
       "ItemPrice          float64\n",
       "UserID             float64\n",
       "dtype: object"
      ]
     },
     "execution_count": 7,
     "metadata": {},
     "output_type": "execute_result"
    }
   ],
   "source": [
    "# Checking for data types\n",
    "df.dtypes"
   ]
  },
  {
   "cell_type": "code",
   "execution_count": 8,
   "id": "022ae19b",
   "metadata": {},
   "outputs": [],
   "source": [
    "df['TransactionDate']=pd.to_datetime(df['TransactionDate'])"
   ]
  },
  {
   "cell_type": "code",
   "execution_count": 9,
   "id": "6201bab5",
   "metadata": {},
   "outputs": [
    {
     "data": {
      "text/html": [
       "<div>\n",
       "<style scoped>\n",
       "    .dataframe tbody tr th:only-of-type {\n",
       "        vertical-align: middle;\n",
       "    }\n",
       "\n",
       "    .dataframe tbody tr th {\n",
       "        vertical-align: top;\n",
       "    }\n",
       "\n",
       "    .dataframe thead th {\n",
       "        text-align: right;\n",
       "    }\n",
       "</style>\n",
       "<table border=\"1\" class=\"dataframe\">\n",
       "  <thead>\n",
       "    <tr style=\"text-align: right;\">\n",
       "      <th></th>\n",
       "      <th>Quan</th>\n",
       "      <th>ItemPrice</th>\n",
       "      <th>UserID</th>\n",
       "    </tr>\n",
       "  </thead>\n",
       "  <tbody>\n",
       "    <tr>\n",
       "      <th>count</th>\n",
       "      <td>406829.000000</td>\n",
       "      <td>406829.000000</td>\n",
       "      <td>4.068290e+05</td>\n",
       "    </tr>\n",
       "    <tr>\n",
       "      <th>mean</th>\n",
       "      <td>12.060453</td>\n",
       "      <td>3.460489</td>\n",
       "      <td>1.920313e+04</td>\n",
       "    </tr>\n",
       "    <tr>\n",
       "      <th>std</th>\n",
       "      <td>248.692568</td>\n",
       "      <td>69.315162</td>\n",
       "      <td>9.303983e+04</td>\n",
       "    </tr>\n",
       "    <tr>\n",
       "      <th>min</th>\n",
       "      <td>-80995.000000</td>\n",
       "      <td>0.000000</td>\n",
       "      <td>1.234600e+04</td>\n",
       "    </tr>\n",
       "    <tr>\n",
       "      <th>25%</th>\n",
       "      <td>2.000000</td>\n",
       "      <td>1.250000</td>\n",
       "      <td>1.396900e+04</td>\n",
       "    </tr>\n",
       "    <tr>\n",
       "      <th>50%</th>\n",
       "      <td>5.000000</td>\n",
       "      <td>1.950000</td>\n",
       "      <td>1.515900e+04</td>\n",
       "    </tr>\n",
       "    <tr>\n",
       "      <th>75%</th>\n",
       "      <td>12.000000</td>\n",
       "      <td>3.750000</td>\n",
       "      <td>1.680600e+04</td>\n",
       "    </tr>\n",
       "    <tr>\n",
       "      <th>max</th>\n",
       "      <td>80995.000000</td>\n",
       "      <td>38970.000000</td>\n",
       "      <td>3.661883e+06</td>\n",
       "    </tr>\n",
       "  </tbody>\n",
       "</table>\n",
       "</div>"
      ],
      "text/plain": [
       "                Quan      ItemPrice        UserID\n",
       "count  406829.000000  406829.000000  4.068290e+05\n",
       "mean       12.060453       3.460489  1.920313e+04\n",
       "std       248.692568      69.315162  9.303983e+04\n",
       "min    -80995.000000       0.000000  1.234600e+04\n",
       "25%         2.000000       1.250000  1.396900e+04\n",
       "50%         5.000000       1.950000  1.515900e+04\n",
       "75%        12.000000       3.750000  1.680600e+04\n",
       "max     80995.000000   38970.000000  3.661883e+06"
      ]
     },
     "execution_count": 9,
     "metadata": {},
     "output_type": "execute_result"
    }
   ],
   "source": [
    "df.describe()"
   ]
  },
  {
   "cell_type": "code",
   "execution_count": 10,
   "id": "8422e3cc",
   "metadata": {},
   "outputs": [],
   "source": [
    "# From the table above, we can see that the average price for items is 3.4, whereas stand deviation is 69.3. \n",
    "# The 50% position and 75% position are 1.95 and 3.75 resepectively, which means that most of items have similary prices. \n",
    "# However, the maxmimun ItemPrice is 38970.\n"
   ]
  },
  {
   "cell_type": "code",
   "execution_count": 11,
   "id": "ba3782a5",
   "metadata": {},
   "outputs": [
    {
     "data": {
      "text/html": [
       "<div>\n",
       "<style scoped>\n",
       "    .dataframe tbody tr th:only-of-type {\n",
       "        vertical-align: middle;\n",
       "    }\n",
       "\n",
       "    .dataframe tbody tr th {\n",
       "        vertical-align: top;\n",
       "    }\n",
       "\n",
       "    .dataframe thead th {\n",
       "        text-align: right;\n",
       "    }\n",
       "</style>\n",
       "<table border=\"1\" class=\"dataframe\">\n",
       "  <thead>\n",
       "    <tr style=\"text-align: right;\">\n",
       "      <th></th>\n",
       "      <th>ItemPrice</th>\n",
       "      <th>TransactionDate</th>\n",
       "      <th>TransactionNo</th>\n",
       "    </tr>\n",
       "    <tr>\n",
       "      <th>UserID</th>\n",
       "      <th></th>\n",
       "      <th></th>\n",
       "      <th></th>\n",
       "    </tr>\n",
       "  </thead>\n",
       "  <tbody>\n",
       "    <tr>\n",
       "      <th>12346.0</th>\n",
       "      <td>2.08</td>\n",
       "      <td>2020-01-18</td>\n",
       "      <td>2</td>\n",
       "    </tr>\n",
       "    <tr>\n",
       "      <th>12347.0</th>\n",
       "      <td>481.21</td>\n",
       "      <td>2020-12-07</td>\n",
       "      <td>182</td>\n",
       "    </tr>\n",
       "    <tr>\n",
       "      <th>12348.0</th>\n",
       "      <td>178.71</td>\n",
       "      <td>2020-09-25</td>\n",
       "      <td>31</td>\n",
       "    </tr>\n",
       "    <tr>\n",
       "      <th>12349.0</th>\n",
       "      <td>605.10</td>\n",
       "      <td>2020-11-21</td>\n",
       "      <td>73</td>\n",
       "    </tr>\n",
       "    <tr>\n",
       "      <th>12350.0</th>\n",
       "      <td>65.30</td>\n",
       "      <td>2020-02-02</td>\n",
       "      <td>17</td>\n",
       "    </tr>\n",
       "    <tr>\n",
       "      <th>...</th>\n",
       "      <td>...</td>\n",
       "      <td>...</td>\n",
       "      <td>...</td>\n",
       "    </tr>\n",
       "    <tr>\n",
       "      <th>228661.0</th>\n",
       "      <td>791.28</td>\n",
       "      <td>2020-12-07</td>\n",
       "      <td>251</td>\n",
       "    </tr>\n",
       "    <tr>\n",
       "      <th>1725421.0</th>\n",
       "      <td>1122.66</td>\n",
       "      <td>2020-12-09</td>\n",
       "      <td>274</td>\n",
       "    </tr>\n",
       "    <tr>\n",
       "      <th>1725481.0</th>\n",
       "      <td>57.90</td>\n",
       "      <td>2020-10-12</td>\n",
       "      <td>28</td>\n",
       "    </tr>\n",
       "    <tr>\n",
       "      <th>2634812.0</th>\n",
       "      <td>1033.94</td>\n",
       "      <td>2020-12-09</td>\n",
       "      <td>280</td>\n",
       "    </tr>\n",
       "    <tr>\n",
       "      <th>3661883.0</th>\n",
       "      <td>187.33</td>\n",
       "      <td>2020-12-09</td>\n",
       "      <td>52</td>\n",
       "    </tr>\n",
       "  </tbody>\n",
       "</table>\n",
       "<p>4372 rows × 3 columns</p>\n",
       "</div>"
      ],
      "text/plain": [
       "           ItemPrice TransactionDate  TransactionNo\n",
       "UserID                                             \n",
       "12346.0         2.08      2020-01-18              2\n",
       "12347.0       481.21      2020-12-07            182\n",
       "12348.0       178.71      2020-09-25             31\n",
       "12349.0       605.10      2020-11-21             73\n",
       "12350.0        65.30      2020-02-02             17\n",
       "...              ...             ...            ...\n",
       "228661.0      791.28      2020-12-07            251\n",
       "1725421.0    1122.66      2020-12-09            274\n",
       "1725481.0      57.90      2020-10-12             28\n",
       "2634812.0    1033.94      2020-12-09            280\n",
       "3661883.0     187.33      2020-12-09             52\n",
       "\n",
       "[4372 rows x 3 columns]"
      ]
     },
     "execution_count": 11,
     "metadata": {},
     "output_type": "execute_result"
    }
   ],
   "source": [
    "# Pivot table\n",
    "\n",
    "rfm = df.pivot_table(index='UserID',values=['ItemPrice','TransactionNo','TransactionDate'],aggfunc={'ItemPrice':'sum','TransactionNo':'count','TransactionDate':'max'})\n",
    "rfm"
   ]
  },
  {
   "cell_type": "code",
   "execution_count": 15,
   "id": "666c4541",
   "metadata": {},
   "outputs": [
    {
     "data": {
      "text/html": [
       "<div>\n",
       "<style scoped>\n",
       "    .dataframe tbody tr th:only-of-type {\n",
       "        vertical-align: middle;\n",
       "    }\n",
       "\n",
       "    .dataframe tbody tr th {\n",
       "        vertical-align: top;\n",
       "    }\n",
       "\n",
       "    .dataframe thead th {\n",
       "        text-align: right;\n",
       "    }\n",
       "</style>\n",
       "<table border=\"1\" class=\"dataframe\">\n",
       "  <thead>\n",
       "    <tr style=\"text-align: right;\">\n",
       "      <th></th>\n",
       "      <th>M</th>\n",
       "      <th>F</th>\n",
       "      <th>R</th>\n",
       "    </tr>\n",
       "  </thead>\n",
       "  <tbody>\n",
       "    <tr>\n",
       "      <th>count</th>\n",
       "      <td>4372.000000</td>\n",
       "      <td>4372.000000</td>\n",
       "      <td>4372.000000</td>\n",
       "    </tr>\n",
       "    <tr>\n",
       "      <th>mean</th>\n",
       "      <td>322.009882</td>\n",
       "      <td>93.053294</td>\n",
       "      <td>81.538884</td>\n",
       "    </tr>\n",
       "    <tr>\n",
       "      <th>std</th>\n",
       "      <td>1284.784541</td>\n",
       "      <td>232.471608</td>\n",
       "      <td>84.630455</td>\n",
       "    </tr>\n",
       "    <tr>\n",
       "      <th>min</th>\n",
       "      <td>0.000000</td>\n",
       "      <td>1.000000</td>\n",
       "      <td>0.000000</td>\n",
       "    </tr>\n",
       "    <tr>\n",
       "      <th>25%</th>\n",
       "      <td>52.865000</td>\n",
       "      <td>17.000000</td>\n",
       "      <td>18.000000</td>\n",
       "    </tr>\n",
       "    <tr>\n",
       "      <th>50%</th>\n",
       "      <td>130.095000</td>\n",
       "      <td>42.000000</td>\n",
       "      <td>50.000000</td>\n",
       "    </tr>\n",
       "    <tr>\n",
       "      <th>75%</th>\n",
       "      <td>302.332500</td>\n",
       "      <td>102.000000</td>\n",
       "      <td>119.000000</td>\n",
       "    </tr>\n",
       "    <tr>\n",
       "      <th>max</th>\n",
       "      <td>41376.330000</td>\n",
       "      <td>7983.000000</td>\n",
       "      <td>340.000000</td>\n",
       "    </tr>\n",
       "  </tbody>\n",
       "</table>\n",
       "</div>"
      ],
      "text/plain": [
       "                  M            F            R\n",
       "count   4372.000000  4372.000000  4372.000000\n",
       "mean     322.009882    93.053294    81.538884\n",
       "std     1284.784541   232.471608    84.630455\n",
       "min        0.000000     1.000000     0.000000\n",
       "25%       52.865000    17.000000    18.000000\n",
       "50%      130.095000    42.000000    50.000000\n",
       "75%      302.332500   102.000000   119.000000\n",
       "max    41376.330000  7983.000000   340.000000"
      ]
     },
     "execution_count": 15,
     "metadata": {},
     "output_type": "execute_result"
    }
   ],
   "source": [
    "rfm['R']=(rfm['TransactionDate'].max()-rfm['TransactionDate'])/np.timedelta64(1,'D')\n",
    "\n",
    "rfm.rename(columns={'ItemPrice':'M','TransactionNo':'F'}, inplace=True)\n",
    "\n",
    "rfm.describe()"
   ]
  },
  {
   "cell_type": "markdown",
   "id": "b55f7124",
   "metadata": {},
   "source": [
    "# Method 1-Scoring"
   ]
  },
  {
   "cell_type": "code",
   "execution_count": null,
   "id": "97d15416",
   "metadata": {},
   "outputs": [],
   "source": [
    "# There are three levels for each R,F,M\n",
    "# For R, 0-50%=1, 50%-75%=2, 0%-25% =3\n",
    "# For F, 0-50%=1, 50%-75%=2, 75%-100% =3\n",
    "# For M, 0-50%=1, 50%-75%=2, 75%-100% =3"
   ]
  },
  {
   "cell_type": "code",
   "execution_count": null,
   "id": "5b3941ed",
   "metadata": {},
   "outputs": [],
   "source": [
    "# score \n",
    "rfm1=rfm\n",
    "\n",
    "# R\n",
    "def fun(x):\n",
    "    if x>=50:return 1\n",
    "    elif x>=18 and x<50:return 2\n",
    "    else:return 3\n",
    "\n",
    "rfm1['R']=rfm['R'].apply(lambda x: fun(x))\n"
   ]
  },
  {
   "cell_type": "code",
   "execution_count": null,
   "id": "d1ccc2e2",
   "metadata": {},
   "outputs": [],
   "source": [
    "# F\n",
    "def fun(x):\n",
    "    if x>42:return 1\n",
    "    elif x>=42 and x<102:return 2\n",
    "    else:return 3\n",
    "\n",
    "rfm1['F']=rfm['F'].apply(lambda x: fun(x))"
   ]
  },
  {
   "cell_type": "code",
   "execution_count": null,
   "id": "066957ba",
   "metadata": {},
   "outputs": [],
   "source": [
    "# M\n",
    "def fun(x):\n",
    "    if x>130:return 1\n",
    "    elif x>=130 and x<302:return 2\n",
    "    else:return 3\n",
    "\n",
    "rfm1['M']=rfm['M'].apply(lambda x: fun(x))"
   ]
  },
  {
   "cell_type": "code",
   "execution_count": null,
   "id": "70733fc7",
   "metadata": {},
   "outputs": [],
   "source": [
    "rfm1"
   ]
  },
  {
   "cell_type": "markdown",
   "id": "505add56",
   "metadata": {},
   "source": [
    "# Method 2: K-mean"
   ]
  },
  {
   "cell_type": "code",
   "execution_count": 16,
   "id": "c1e0dac3",
   "metadata": {},
   "outputs": [
    {
     "data": {
      "text/plain": [
       "array([[ 2.88890184, -0.3917197 , -0.24904291],\n",
       "       [-0.9399451 ,  0.38265697,  0.12392609],\n",
       "       [-0.07727279, -0.26695902, -0.11154888],\n",
       "       ...,\n",
       "       [-0.27816908, -0.27986529, -0.20559096],\n",
       "       [-0.96357996,  0.80426204,  0.55418751],\n",
       "       [-0.96357996, -0.17661507, -0.10483881]])"
      ]
     },
     "execution_count": 16,
     "metadata": {},
     "output_type": "execute_result"
    }
   ],
   "source": [
    "# Data processing\n",
    "\n",
    "rfm0 = rfm[['R','F','M']]\n",
    "\n",
    "from sklearn.preprocessing import StandardScaler\n",
    "scaler = StandardScaler()\n",
    "scaler.fit(rfm0)\n",
    "rfm0 = scaler.transform(rfm0)\n",
    "rfm0"
   ]
  },
  {
   "cell_type": "code",
   "execution_count": 17,
   "id": "9b6398ba",
   "metadata": {},
   "outputs": [
    {
     "data": {
      "image/png": "[encoded data removed]",
      "text/plain": [
       "<Figure size 432x288 with 1 Axes>"
      ]
     },
     "metadata": {
      "needs_background": "light"
     },
     "output_type": "display_data"
    }
   ],
   "source": [
    "# Identify K\n",
    "from sklearn.cluster import KMeans\n",
    "SSE = []\n",
    "for k in range(1,9):\n",
    "    estimator = KMeans(n_clusters=k)\n",
    "    estimator.fit(rfm0)\n",
    "    SSE.append(estimator.inertia_)\n",
    "X=range(1,9)\n",
    "plt.xlabel('k')\n",
    "plt.ylabel('SSE')\n",
    "plt.plot(X,SSE,'o-')\n",
    "plt.show()"
   ]
  },
  {
   "cell_type": "code",
   "execution_count": 18,
   "id": "b18d73d6",
   "metadata": {},
   "outputs": [],
   "source": [
    "# K=4\n",
    "\n",
    "\n",
    "# KMean\n",
    "kmodel = KMeans(n_clusters=4,random_state=33).fit(rfm0)\n"
   ]
  },
  {
   "cell_type": "code",
   "execution_count": 19,
   "id": "6cf3af9b",
   "metadata": {},
   "outputs": [
    {
     "data": {
      "text/plain": [
       "array([[-0.49594742, 14.45049977, 21.69935274],\n",
       "       [-0.38410613, -0.1146577 , -0.09147048],\n",
       "       [ 1.76737292, -0.2917204 , -0.17231213],\n",
       "       [-0.77841539,  1.61367973,  0.90284918]])"
      ]
     },
     "execution_count": 19,
     "metadata": {},
     "output_type": "execute_result"
    }
   ],
   "source": [
    "# Centroid for each cluster\n",
    "centroid=kmodel.cluster_centers_\n",
    "centroid"
   ]
  },
  {
   "cell_type": "code",
   "execution_count": 20,
   "id": "43cbee11",
   "metadata": {},
   "outputs": [
    {
     "data": {
      "text/plain": [
       "array([2, 1, 1, ..., 1, 3, 1])"
      ]
     },
     "execution_count": 20,
     "metadata": {},
     "output_type": "execute_result"
    }
   ],
   "source": [
    "# The category corresponding to each sample\n",
    "cluster_labels=kmodel.labels_\n",
    "cluster_labels"
   ]
  },
  {
   "cell_type": "code",
   "execution_count": 21,
   "id": "becbe5d4",
   "metadata": {},
   "outputs": [
    {
     "data": {
      "text/html": [
       "<div>\n",
       "<style scoped>\n",
       "    .dataframe tbody tr th:only-of-type {\n",
       "        vertical-align: middle;\n",
       "    }\n",
       "\n",
       "    .dataframe tbody tr th {\n",
       "        vertical-align: top;\n",
       "    }\n",
       "\n",
       "    .dataframe thead th {\n",
       "        text-align: right;\n",
       "    }\n",
       "</style>\n",
       "<table border=\"1\" class=\"dataframe\">\n",
       "  <thead>\n",
       "    <tr style=\"text-align: right;\">\n",
       "      <th></th>\n",
       "      <th>M</th>\n",
       "      <th>TransactionDate</th>\n",
       "      <th>F</th>\n",
       "      <th>R</th>\n",
       "      <th>Category</th>\n",
       "    </tr>\n",
       "    <tr>\n",
       "      <th>UserID</th>\n",
       "      <th></th>\n",
       "      <th></th>\n",
       "      <th></th>\n",
       "      <th></th>\n",
       "      <th></th>\n",
       "    </tr>\n",
       "  </thead>\n",
       "  <tbody>\n",
       "    <tr>\n",
       "      <th>12346.0</th>\n",
       "      <td>2.08</td>\n",
       "      <td>2020-01-18</td>\n",
       "      <td>2</td>\n",
       "      <td>326.0</td>\n",
       "      <td>2</td>\n",
       "    </tr>\n",
       "    <tr>\n",
       "      <th>12347.0</th>\n",
       "      <td>481.21</td>\n",
       "      <td>2020-12-07</td>\n",
       "      <td>182</td>\n",
       "      <td>2.0</td>\n",
       "      <td>1</td>\n",
       "    </tr>\n",
       "    <tr>\n",
       "      <th>12348.0</th>\n",
       "      <td>178.71</td>\n",
       "      <td>2020-09-25</td>\n",
       "      <td>31</td>\n",
       "      <td>75.0</td>\n",
       "      <td>1</td>\n",
       "    </tr>\n",
       "    <tr>\n",
       "      <th>12349.0</th>\n",
       "      <td>605.10</td>\n",
       "      <td>2020-11-21</td>\n",
       "      <td>73</td>\n",
       "      <td>18.0</td>\n",
       "      <td>1</td>\n",
       "    </tr>\n",
       "    <tr>\n",
       "      <th>12350.0</th>\n",
       "      <td>65.30</td>\n",
       "      <td>2020-02-02</td>\n",
       "      <td>17</td>\n",
       "      <td>311.0</td>\n",
       "      <td>2</td>\n",
       "    </tr>\n",
       "    <tr>\n",
       "      <th>...</th>\n",
       "      <td>...</td>\n",
       "      <td>...</td>\n",
       "      <td>...</td>\n",
       "      <td>...</td>\n",
       "      <td>...</td>\n",
       "    </tr>\n",
       "    <tr>\n",
       "      <th>228661.0</th>\n",
       "      <td>791.28</td>\n",
       "      <td>2020-12-07</td>\n",
       "      <td>251</td>\n",
       "      <td>2.0</td>\n",
       "      <td>1</td>\n",
       "    </tr>\n",
       "    <tr>\n",
       "      <th>1725421.0</th>\n",
       "      <td>1122.66</td>\n",
       "      <td>2020-12-09</td>\n",
       "      <td>274</td>\n",
       "      <td>0.0</td>\n",
       "      <td>3</td>\n",
       "    </tr>\n",
       "    <tr>\n",
       "      <th>1725481.0</th>\n",
       "      <td>57.90</td>\n",
       "      <td>2020-10-12</td>\n",
       "      <td>28</td>\n",
       "      <td>58.0</td>\n",
       "      <td>1</td>\n",
       "    </tr>\n",
       "    <tr>\n",
       "      <th>2634812.0</th>\n",
       "      <td>1033.94</td>\n",
       "      <td>2020-12-09</td>\n",
       "      <td>280</td>\n",
       "      <td>0.0</td>\n",
       "      <td>3</td>\n",
       "    </tr>\n",
       "    <tr>\n",
       "      <th>3661883.0</th>\n",
       "      <td>187.33</td>\n",
       "      <td>2020-12-09</td>\n",
       "      <td>52</td>\n",
       "      <td>0.0</td>\n",
       "      <td>1</td>\n",
       "    </tr>\n",
       "  </tbody>\n",
       "</table>\n",
       "<p>4372 rows × 5 columns</p>\n",
       "</div>"
      ],
      "text/plain": [
       "                 M TransactionDate    F      R  Category\n",
       "UserID                                                  \n",
       "12346.0       2.08      2020-01-18    2  326.0         2\n",
       "12347.0     481.21      2020-12-07  182    2.0         1\n",
       "12348.0     178.71      2020-09-25   31   75.0         1\n",
       "12349.0     605.10      2020-11-21   73   18.0         1\n",
       "12350.0      65.30      2020-02-02   17  311.0         2\n",
       "...            ...             ...  ...    ...       ...\n",
       "228661.0    791.28      2020-12-07  251    2.0         1\n",
       "1725421.0  1122.66      2020-12-09  274    0.0         3\n",
       "1725481.0    57.90      2020-10-12   28   58.0         1\n",
       "2634812.0  1033.94      2020-12-09  280    0.0         3\n",
       "3661883.0   187.33      2020-12-09   52    0.0         1\n",
       "\n",
       "[4372 rows x 5 columns]"
      ]
     },
     "execution_count": 21,
     "metadata": {},
     "output_type": "execute_result"
    }
   ],
   "source": [
    "rfm2=rfm\n",
    "rfm2['Category']=cluster_labels\n",
    "rfm2"
   ]
  },
  {
   "cell_type": "code",
   "execution_count": 22,
   "id": "078c5327",
   "metadata": {},
   "outputs": [
    {
     "data": {
      "text/plain": [
       "1    3213\n",
       "2     839\n",
       "3     313\n",
       "0       7\n",
       "Name: Category, dtype: int64"
      ]
     },
     "execution_count": 22,
     "metadata": {},
     "output_type": "execute_result"
    }
   ],
   "source": [
    "# Number of people for each category\n",
    "rfm2['Category'].value_counts()"
   ]
  },
  {
   "cell_type": "markdown",
   "id": "35dbed54",
   "metadata": {},
   "source": [
    "## Visualization and Interpretation\n",
    "\n"
   ]
  },
  {
   "cell_type": "code",
   "execution_count": 23,
   "id": "e983bd7a",
   "metadata": {},
   "outputs": [
    {
     "data": {
      "text/html": [
       "<div>\n",
       "<style scoped>\n",
       "    .dataframe tbody tr th:only-of-type {\n",
       "        vertical-align: middle;\n",
       "    }\n",
       "\n",
       "    .dataframe tbody tr th {\n",
       "        vertical-align: top;\n",
       "    }\n",
       "\n",
       "    .dataframe thead th {\n",
       "        text-align: right;\n",
       "    }\n",
       "</style>\n",
       "<table border=\"1\" class=\"dataframe\">\n",
       "  <thead>\n",
       "    <tr style=\"text-align: right;\">\n",
       "      <th></th>\n",
       "      <th>R</th>\n",
       "      <th>F</th>\n",
       "      <th>M</th>\n",
       "      <th>Size</th>\n",
       "    </tr>\n",
       "  </thead>\n",
       "  <tbody>\n",
       "    <tr>\n",
       "      <th>0</th>\n",
       "      <td>-0.495947</td>\n",
       "      <td>14.450500</td>\n",
       "      <td>21.699353</td>\n",
       "      <td>7</td>\n",
       "    </tr>\n",
       "    <tr>\n",
       "      <th>1</th>\n",
       "      <td>-0.384106</td>\n",
       "      <td>-0.114658</td>\n",
       "      <td>-0.091470</td>\n",
       "      <td>3213</td>\n",
       "    </tr>\n",
       "    <tr>\n",
       "      <th>2</th>\n",
       "      <td>1.767373</td>\n",
       "      <td>-0.291720</td>\n",
       "      <td>-0.172312</td>\n",
       "      <td>839</td>\n",
       "    </tr>\n",
       "    <tr>\n",
       "      <th>3</th>\n",
       "      <td>-0.778415</td>\n",
       "      <td>1.613680</td>\n",
       "      <td>0.902849</td>\n",
       "      <td>313</td>\n",
       "    </tr>\n",
       "  </tbody>\n",
       "</table>\n",
       "</div>"
      ],
      "text/plain": [
       "          R          F          M  Size\n",
       "0 -0.495947  14.450500  21.699353     7\n",
       "1 -0.384106  -0.114658  -0.091470  3213\n",
       "2  1.767373  -0.291720  -0.172312   839\n",
       "3 -0.778415   1.613680   0.902849   313"
      ]
     },
     "execution_count": 23,
     "metadata": {},
     "output_type": "execute_result"
    }
   ],
   "source": [
    "# Centroid and Size\n",
    "r1=pd.Series(cluster_labels).value_counts()\n",
    "r2=pd.DataFrame(centroid)\n",
    "r=pd.concat([r2,r1],axis=1)\n",
    "r.columns = list(rfm.loc[:,['R','F','M']]) + ['Size']\n",
    "r"
   ]
  },
  {
   "cell_type": "code",
   "execution_count": 51,
   "id": "e1bf28b0",
   "metadata": {},
   "outputs": [
    {
     "data": {
      "image/png": "[encoded data removed]",
      "text/plain": [
       "<Figure size 864x720 with 1 Axes>"
      ]
     },
     "metadata": {},
     "output_type": "display_data"
    }
   ],
   "source": [
    "plt.rcParams['font.size'] = 12.0\n",
    "plt.rcParams['axes.unicode_minus'] = False\n",
    "\n",
    "max = r2.values.max()\n",
    "min = r2.values.min()\n",
    "\n",
    "plt.style.use('ggplot')\n",
    "fig =plt.figure(figsize=(12,10))\n",
    "ax = fig.add_subplot(111, polar=True)\n",
    "\n",
    "center_num = r.values\n",
    "feature = ['Recenty-R','Frequency-F', 'Monetary-M']\n",
    "\n",
    "\n",
    "N=len(feature)\n",
    "\n",
    "for i,v in enumerate(center_num):\n",
    "    angles = np.linspace(0, 2*np.pi, N, endpoint=False)\n",
    "    center = np.concatenate((v[:-1], [v[0]]))\n",
    "    angles = np.concatenate((angles,[angles[0]]))\n",
    "    labels = np.concatenate((feature,[feature[0]]))\n",
    "    ax.plot(angles, center, 'o-', linewidth=2,label=\"Category:%d, Size:%d\"%(i+1,v[-1]))\n",
    "    ax.fill(angles,center,alpha=0.25)\n",
    "    ax.set_thetagrids(angles * 180/np.pi,labels,fontsize=15)\n",
    "    ax.set_ylim(min - 0.1, max + 0.1)\n",
    "plt.title('Customer Group Analysis',fontsize=20)\n",
    "\n",
    "ax.grid(True)\n",
    "plt.legend(loc='upper right', bbox_to_anchor=(1.3, 1.0), ncol=1, fancybox=True, shadow=True)\n",
    "plt.show()"
   ]
  }
 ],
 "metadata": {
  "kernelspec": {
   "display_name": "Python 3.10.5 64-bit",
   "language": "python",
   "name": "python3"
  },
  "language_info": {
   "codemirror_mode": {
    "name": "ipython",
    "version": 3
   },
   "file_extension": ".py",
   "mimetype": "text/x-python",
   "name": "python",
   "nbconvert_exporter": "python",
   "pygments_lexer": "ipython3",
   "version": "3.10.5"
  },
  "vscode": {
   "interpreter": {
    "hash": "aee8b7b246df8f9039afb4144a1f6fd8d2ca17a180786b69acc140d282b71a49"
   }
  }
 },
 "nbformat": 4,
 "nbformat_minor": 5
}
